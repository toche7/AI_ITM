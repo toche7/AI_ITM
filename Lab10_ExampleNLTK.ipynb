{
  "nbformat": 4,
  "nbformat_minor": 0,
  "metadata": {
    "colab": {
      "provenance": [],
      "authorship_tag": "ABX9TyNoU4vLn5iuIfzlqSHdTBP1",
      "include_colab_link": true
    },
    "kernelspec": {
      "name": "python3",
      "display_name": "Python 3"
    },
    "language_info": {
      "name": "python"
    }
  },
  "cells": [
    {
      "cell_type": "markdown",
      "metadata": {
        "id": "view-in-github",
        "colab_type": "text"
      },
      "source": [
        "<a href=\"https://colab.research.google.com/github/toche7/AI_ITM/blob/main/Lab10_ExampleNLTK.ipynb\" target=\"_parent\"><img src=\"https://colab.research.google.com/assets/colab-badge.svg\" alt=\"Open In Colab\"/></a>"
      ]
    },
    {
      "cell_type": "code",
      "execution_count": null,
      "metadata": {
        "id": "D1jCw7MK_ijJ"
      },
      "outputs": [],
      "source": [
        "text = \"It's been a long day at work, and now I'm finally home. Home, sweet home! The weather was quite bad: rainy and windy, but it didn't dampen my spirits.\"\n"
      ]
    },
    {
      "cell_type": "code",
      "source": [
        "import nltk\n",
        "from nltk.tokenize import sent_tokenize, word_tokenize\n",
        "from nltk.corpus import stopwords\n",
        "from nltk.stem import PorterStemmer\n",
        "from nltk.tag import pos_tag\n",
        "import string\n",
        "\n",
        "# First-time use: download necessary NLTK data\n",
        "nltk.download('punkt') ## a pre-trained model used for tokenization.\n",
        "nltk.download('averaged_perceptron_tagger') #for Part-of-Speech (POS) tagging\n",
        "nltk.download('stopwords') #  a list of stop words."
      ],
      "metadata": {
        "colab": {
          "base_uri": "https://localhost:8080/"
        },
        "id": "4GgjGYHRFwWL",
        "outputId": "b8083002-900d-43b2-bbbe-cec730785cb9"
      },
      "execution_count": null,
      "outputs": [
        {
          "output_type": "stream",
          "name": "stderr",
          "text": [
            "[nltk_data] Downloading package punkt to /root/nltk_data...\n",
            "[nltk_data]   Unzipping tokenizers/punkt.zip.\n",
            "[nltk_data] Downloading package averaged_perceptron_tagger to\n",
            "[nltk_data]     /root/nltk_data...\n",
            "[nltk_data]   Unzipping taggers/averaged_perceptron_tagger.zip.\n",
            "[nltk_data] Downloading package stopwords to /root/nltk_data...\n",
            "[nltk_data]   Unzipping corpora/stopwords.zip.\n"
          ]
        },
        {
          "output_type": "execute_result",
          "data": {
            "text/plain": [
              "True"
            ]
          },
          "metadata": {},
          "execution_count": 2
        }
      ]
    },
    {
      "cell_type": "code",
      "source": [
        "# Cleaning\n",
        "# Convert to lowercase and remove punctuation\n",
        "text_clean = text.lower().translate(str.maketrans('', '', string.punctuation))\n",
        "print(\"Original Text:\", text)\n",
        "print(\"Cleaned Text:\", text_clean)"
      ],
      "metadata": {
        "colab": {
          "base_uri": "https://localhost:8080/"
        },
        "id": "CjR2pIu-GAn6",
        "outputId": "105efdcd-a9ba-4a28-cf70-c7c23b8b1cbe"
      },
      "execution_count": null,
      "outputs": [
        {
          "output_type": "stream",
          "name": "stdout",
          "text": [
            "Original Text: It's been a long day at work, and now I'm finally home. Home, sweet home! The weather was quite bad: rainy and windy, but it didn't dampen my spirits.\n",
            "Cleaned Text: its been a long day at work and now im finally home home sweet home the weather was quite bad rainy and windy but it didnt dampen my spirits\n"
          ]
        }
      ]
    },
    {
      "cell_type": "code",
      "source": [
        "# Tokenization\n",
        "# Split into sentences\n",
        "sentences = sent_tokenize(text_clean)\n",
        "# Split into words\n",
        "words = [word_tokenize(sentence) for sentence in sentences]\n",
        "print(\"Tokenized Sentences:\", sentences)\n",
        "print(\"Tokenized Words:\", words)"
      ],
      "metadata": {
        "colab": {
          "base_uri": "https://localhost:8080/"
        },
        "id": "B7ThSV_9GYnh",
        "outputId": "2c17b578-7925-4ee4-c18e-2da03e5d1be8"
      },
      "execution_count": null,
      "outputs": [
        {
          "output_type": "stream",
          "name": "stdout",
          "text": [
            "Tokenized Sentences: ['its been a long day at work and now im finally home home sweet home the weather was quite bad rainy and windy but it didnt dampen my spirits']\n",
            "Tokenized Words: [['its', 'been', 'a', 'long', 'day', 'at', 'work', 'and', 'now', 'im', 'finally', 'home', 'home', 'sweet', 'home', 'the', 'weather', 'was', 'quite', 'bad', 'rainy', 'and', 'windy', 'but', 'it', 'didnt', 'dampen', 'my', 'spirits']]\n"
          ]
        }
      ]
    },
    {
      "cell_type": "code",
      "source": [
        "# Parsing (Part-of-Speech Tagging)\n",
        "tagged_words = [pos_tag(word) for word in words]\n",
        "print(\"POS Tagged Words:\", tagged_words)"
      ],
      "metadata": {
        "colab": {
          "base_uri": "https://localhost:8080/"
        },
        "id": "wx-aHDsDGmhE",
        "outputId": "5022c9a5-cf09-4460-8b7e-8631bed56d34"
      },
      "execution_count": null,
      "outputs": [
        {
          "output_type": "stream",
          "name": "stdout",
          "text": [
            "POS Tagged Words: [[('its', 'PRP$'), ('been', 'VBN'), ('a', 'DT'), ('long', 'JJ'), ('day', 'NN'), ('at', 'IN'), ('work', 'NN'), ('and', 'CC'), ('now', 'RB'), ('im', 'VBP'), ('finally', 'RB'), ('home', 'VBN'), ('home', 'NN'), ('sweet', 'NN'), ('home', 'VBD'), ('the', 'DT'), ('weather', 'NN'), ('was', 'VBD'), ('quite', 'RB'), ('bad', 'JJ'), ('rainy', 'NN'), ('and', 'CC'), ('windy', 'NN'), ('but', 'CC'), ('it', 'PRP'), ('didnt', 'VBZ'), ('dampen', 'JJ'), ('my', 'PRP$'), ('spirits', 'NNS')]]\n"
          ]
        }
      ]
    },
    {
      "cell_type": "code",
      "source": [
        "# Stopwords Removal\n",
        "stop_words = set(stopwords.words('english'))\n",
        "filtered_words = [[word for word in word_list if word not in stop_words] for word_list in words]\n",
        "print(\"Filtered Words:\", filtered_words)"
      ],
      "metadata": {
        "colab": {
          "base_uri": "https://localhost:8080/"
        },
        "id": "3EkBknM2G4-C",
        "outputId": "46a008d5-c5d8-4f65-c037-b7c85bc2b647"
      },
      "execution_count": null,
      "outputs": [
        {
          "output_type": "stream",
          "name": "stdout",
          "text": [
            "Filtered Words: [['long', 'day', 'work', 'im', 'finally', 'home', 'home', 'sweet', 'home', 'weather', 'quite', 'bad', 'rainy', 'windy', 'didnt', 'dampen', 'spirits']]\n"
          ]
        }
      ]
    },
    {
      "cell_type": "code",
      "source": [
        "# Stemming\n",
        "stemmer = PorterStemmer()\n",
        "stemmed_words = [[stemmer.stem(word) for word in word_list] for word_list in filtered_words]\n",
        "print(\"Stemmed Words:\", stemmed_words)\n"
      ],
      "metadata": {
        "colab": {
          "base_uri": "https://localhost:8080/"
        },
        "id": "FpaOa3Zj_lkH",
        "outputId": "4187124e-1529-45f0-b1e4-ec409eb5d625"
      },
      "execution_count": null,
      "outputs": [
        {
          "output_type": "stream",
          "name": "stdout",
          "text": [
            "Stemmed Words: [['long', 'day', 'work', 'im', 'final', 'home', 'home', 'sweet', 'home', 'weather', 'quit', 'bad', 'raini', 'windi', 'didnt', 'dampen', 'spirit']]\n"
          ]
        }
      ]
    }
  ]
}