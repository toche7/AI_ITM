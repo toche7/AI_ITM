{
  "nbformat": 4,
  "nbformat_minor": 0,
  "metadata": {
    "colab": {
      "provenance": [],
      "authorship_tag": "ABX9TyNoU4vLn5iuIfzlqSHdTBP1",
      "include_colab_link": true
    },
    "kernelspec": {
      "name": "python3",
      "display_name": "Python 3"
    },
    "language_info": {
      "name": "python"
    }
  },
  "cells": [
    {
      "cell_type": "markdown",
      "metadata": {
        "id": "view-in-github",
        "colab_type": "text"
      },
      "source": [
        "<a href=\"https://colab.research.google.com/github/toche7/AI_ITM/blob/main/Lab10_ExampleNLTK.ipynb\" target=\"_parent\"><img src=\"https://colab.research.google.com/assets/colab-badge.svg\" alt=\"Open In Colab\"/></a>"
      ]
    },
    {
      "cell_type": "code",
      "execution_count": null,
      "metadata": {
        "id": "D1jCw7MK_ijJ"
      },
      "outputs": [],
      "source": [
        "text = \"It's been a long day at work, and now I'm finally home. Home, sweet home! The weather was quite bad: rainy and windy, but it didn't dampen my spirits.\"\n"
      ]
    },
    {
      "cell_type": "code",
      "source": [
        "import nltk\n",
        "from nltk.tokenize import sent_tokenize, word_tokenize\n",
        "from nltk.corpus import stopwords\n",
        "from nltk.stem import PorterStemmer\n",
        "from nltk.tag import pos_tag\n",
        "import string\n",
        "\n",
        "# First-time use: download necessary NLTK data\n",
        "nltk.download('punkt') ## a pre-trained model used for tokenization.\n",
        "nltk.download('averaged_perceptron_tagger') #for Part-of-Speech (POS) tagging\n",
        "nltk.download('stopwords') #  a list of stop words."
      ],
      "metadata": {
        "id": "4GgjGYHRFwWL"
      },
      "execution_count": null,
      "outputs": []
    },
    {
      "cell_type": "code",
      "source": [
        "# Cleaning\n",
        "# Convert to lowercase and remove punctuation\n",
        "text_clean = text.lower().translate(str.maketrans('', '', string.punctuation))\n",
        "print(\"Original Text:\", text)\n",
        "print(\"Cleaned Text:\", text_clean)"
      ],
      "metadata": {
        "id": "CjR2pIu-GAn6"
      },
      "execution_count": null,
      "outputs": []
    },
    {
      "cell_type": "code",
      "source": [
        "# Tokenization\n",
        "# Split into sentences\n",
        "sentences = sent_tokenize(text_clean)\n",
        "# Split into words\n",
        "words = [word_tokenize(sentence) for sentence in sentences]\n",
        "print(\"Tokenized Sentences:\", sentences)\n",
        "print(\"Tokenized Words:\", words)"
      ],
      "metadata": {
        "id": "B7ThSV_9GYnh"
      },
      "execution_count": null,
      "outputs": []
    },
    {
      "cell_type": "code",
      "source": [
        "# Parsing (Part-of-Speech Tagging)\n",
        "tagged_words = [pos_tag(word) for word in words]\n",
        "print(\"POS Tagged Words:\", tagged_words)"
      ],
      "metadata": {
        "id": "wx-aHDsDGmhE"
      },
      "execution_count": null,
      "outputs": []
    },
    {
      "cell_type": "code",
      "source": [
        "# Stopwords Removal\n",
        "stop_words = set(stopwords.words('english'))\n",
        "filtered_words = [[word for word in word_list if word not in stop_words] for word_list in words]\n",
        "print(\"Filtered Words:\", filtered_words)"
      ],
      "metadata": {
        "id": "3EkBknM2G4-C"
      },
      "execution_count": null,
      "outputs": []
    },
    {
      "cell_type": "code",
      "source": [
        "# Stemming\n",
        "stemmer = PorterStemmer()\n",
        "stemmed_words = [[stemmer.stem(word) for word in word_list] for word_list in filtered_words]\n",
        "print(\"Stemmed Words:\", stemmed_words)\n"
      ],
      "metadata": {
        "id": "FpaOa3Zj_lkH"
      },
      "execution_count": null,
      "outputs": []
    }
  ]
}