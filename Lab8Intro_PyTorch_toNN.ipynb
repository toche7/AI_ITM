{
  "nbformat": 4,
  "nbformat_minor": 0,
  "metadata": {
    "colab": {
      "provenance": [],
      "include_colab_link": true
    },
    "kernelspec": {
      "name": "python3",
      "display_name": "Python 3"
    },
    "language_info": {
      "name": "python"
    }
  },
  "cells": [
    {
      "cell_type": "markdown",
      "metadata": {
        "id": "view-in-github",
        "colab_type": "text"
      },
      "source": [
        "<a href=\"https://colab.research.google.com/github/toche7/AI_ITM/blob/main/Lab8Intro_PyTorch_toNN.ipynb\" target=\"_parent\"><img src=\"https://colab.research.google.com/assets/colab-badge.svg\" alt=\"Open In Colab\"/></a>"
      ]
    },
    {
      "cell_type": "markdown",
      "source": [
        "# **Introduction to PyTorch**"
      ],
      "metadata": {
        "id": "HjLODxN2QhAY"
      }
    },
    {
      "cell_type": "markdown",
      "source": [
        "**Install PyTorch:**\n",
        "\n",
        "\n",
        "\n",
        "*   Make sure PyTorch is installed. You can install it via pip with the following command (you may need to adjust the command based on your system and whether you want GPU support):\n"
      ],
      "metadata": {
        "id": "2V6AvePuQ4cC"
      }
    },
    {
      "cell_type": "code",
      "source": [
        "!pip install torch"
      ],
      "metadata": {
        "id": "t4aeouTaWGRw"
      },
      "execution_count": null,
      "outputs": []
    },
    {
      "cell_type": "markdown",
      "source": [
        "**Tensors:**\n",
        "\n",
        "*   Tensors are the core data structures in PyTorch. You can think of them as generalized arrays or matrices. Here’s how to create a tensor\n",
        "\n"
      ],
      "metadata": {
        "id": "Lf63okOOWfnG"
      }
    },
    {
      "cell_type": "code",
      "source": [
        "import torch\n",
        "\n",
        "# Create a 1D tensor\n",
        "tensor_1d = torch.tensor([1, 2, 3])\n",
        "print(tensor_1d)"
      ],
      "metadata": {
        "id": "z0ze5tHhW3_G"
      },
      "execution_count": null,
      "outputs": []
    },
    {
      "cell_type": "code",
      "source": [
        "# Create a 2D tensor (matrix)\n",
        "tensor_2d = torch.tensor([[1, 2], [3, 4]])\n",
        "print(tensor_2d)"
      ],
      "metadata": {
        "id": "dXqA3og7W_Kw"
      },
      "execution_count": null,
      "outputs": []
    },
    {
      "cell_type": "markdown",
      "source": [
        "**Basic Operations:**\n",
        "\n",
        "\n",
        "*   You can perform various mathematical operations on tensors\n"
      ],
      "metadata": {
        "id": "VbuWCCvZXJgN"
      }
    },
    {
      "cell_type": "code",
      "source": [
        "# Addition\n",
        "result = tensor_1d + 2\n",
        "print(result)"
      ],
      "metadata": {
        "id": "1rYTxHeyXP9X"
      },
      "execution_count": null,
      "outputs": []
    },
    {
      "cell_type": "code",
      "source": [
        "# Matrix multiplication\n",
        "tensor_a = torch.tensor([[1, 2], [3, 4]])\n",
        "tensor_b = torch.tensor([[5, 6], [7, 8]])\n",
        "result = torch.mm(tensor_a, tensor_b)\n",
        "print(result)"
      ],
      "metadata": {
        "id": "KglRrA8VXZAY"
      },
      "execution_count": null,
      "outputs": []
    },
    {
      "cell_type": "markdown",
      "source": [
        "**Autograd:**\n",
        "\n",
        "\n",
        "*   PyTorch has a built-in automatic differentiation library. This is useful for backpropagation in neural networks."
      ],
      "metadata": {
        "id": "cyYJh7caXonv"
      }
    },
    {
      "cell_type": "code",
      "source": [
        "# Create a tensor with requires_grad=True to track operations.\n",
        "x = torch.ones(2, 2, requires_grad=True)\n",
        "y = x + 2\n",
        "z = y * y * 3"
      ],
      "metadata": {
        "id": "3iasWhSwXxzB"
      },
      "execution_count": null,
      "outputs": []
    },
    {
      "cell_type": "code",
      "source": [
        "# Compute gradients\n",
        "z.backward(torch.ones_like(z))\n",
        "print(x.grad)  # This will output the gradient of z with respect to x"
      ],
      "metadata": {
        "id": "U2jplj-kX4WJ"
      },
      "execution_count": null,
      "outputs": []
    },
    {
      "cell_type": "markdown",
      "source": [
        "**Creating and Training a Simple Neural Network:**\n",
        "\n",
        "Here's a basic example of defining a neural network and training it."
      ],
      "metadata": {
        "id": "jhEKz0gYYAln"
      }
    },
    {
      "cell_type": "code",
      "source": [
        "import torch.nn as nn\n",
        "import torch.optim as optim\n",
        "\n",
        "# Define a simple feedforward network\n",
        "class SimpleNN(nn.Module):\n",
        "    def __init__(self):\n",
        "        super(SimpleNN, self).__init__()\n",
        "        self.fc1 = nn.Linear(2, 2)  # Input layer to hidden layer\n",
        "        self.fc2 = nn.Linear(2, 1)  # Hidden layer to output layer\n",
        "\n",
        "    def forward(self, x):\n",
        "        x = torch.relu(self.fc1(x))\n",
        "        x = self.fc2(x)\n",
        "        return x"
      ],
      "metadata": {
        "id": "BOyFmjSLYDbs"
      },
      "execution_count": null,
      "outputs": []
    },
    {
      "cell_type": "code",
      "source": [
        "# Instantiate the model, define the loss function and the optimizer\n",
        "model = SimpleNN()\n",
        "criterion = nn.MSELoss()  # Mean squared error loss\n",
        "optimizer = optim.SGD(model.parameters(), lr=0.01)  # Stochastic gradient descent"
      ],
      "metadata": {
        "id": "ClSIfDc8YQlz"
      },
      "execution_count": null,
      "outputs": []
    },
    {
      "cell_type": "code",
      "source": [
        "# Example training loop\n",
        "for epoch in range(100):\n",
        "    # Dummy input and target\n",
        "    input_data = torch.tensor([[1.0, 2.0]])\n",
        "    target_data = torch.tensor([[1.0]])\n",
        "\n",
        "    # Forward pass\n",
        "    optimizer.zero_grad()\n",
        "    output = model(input_data)\n",
        "    loss = criterion(output, target_data)\n",
        "\n",
        "    # Backward pass and optimization\n",
        "    loss.backward()\n",
        "    optimizer.step()\n",
        "\n",
        "    if epoch % 10 == 0:\n",
        "        print(f'Epoch {epoch}, Loss: {loss.item()}')"
      ],
      "metadata": {
        "id": "o-iDD0R9YViC"
      },
      "execution_count": null,
      "outputs": []
    },
    {
      "cell_type": "markdown",
      "source": [
        "**Saving and Loading Models:**\n",
        "\n",
        "After training a model, you might want to save it and load it later."
      ],
      "metadata": {
        "id": "GppKhVe8Ycml"
      }
    },
    {
      "cell_type": "code",
      "source": [
        "# Save the model\n",
        "torch.save(model.state_dict(), 'model.pth')"
      ],
      "metadata": {
        "id": "RraecRORYf3K"
      },
      "execution_count": null,
      "outputs": []
    },
    {
      "cell_type": "code",
      "source": [
        "# Load the model\n",
        "model = SimpleNN()\n",
        "model.load_state_dict(torch.load('model.pth'))\n",
        "model.eval()  # Set the model to evaluation mode"
      ],
      "metadata": {
        "id": "xoqlcZ1GYmUP"
      },
      "execution_count": null,
      "outputs": []
    },
    {
      "cell_type": "markdown",
      "source": [
        "# **PyTorch Introduction to Neual Network**"
      ],
      "metadata": {
        "id": "Jc7aB_MhQCdq"
      }
    },
    {
      "cell_type": "markdown",
      "source": [
        "**Install PyTorch:**\n",
        "\n",
        "\n",
        "\n",
        "*   Make sure PyTorch is installed. You can run the following command in a code cell to install PyTorch and TorchVision, which contains the MNIST dataset\n",
        "\n"
      ],
      "metadata": {
        "id": "oIYusNd1JzRq"
      }
    },
    {
      "cell_type": "code",
      "execution_count": null,
      "metadata": {
        "collapsed": true,
        "id": "1L40Z1z7JsKH"
      },
      "outputs": [],
      "source": [
        "!pip install torch torchvision"
      ]
    },
    {
      "cell_type": "markdown",
      "source": [
        "**Import Necessary Libraries:**\n",
        "\n",
        "*   Import PyTorch and other libraries required for your analysis\n",
        "\n"
      ],
      "metadata": {
        "id": "HrO991mMKqmA"
      }
    },
    {
      "cell_type": "code",
      "source": [
        "import torch\n",
        "import torch.nn as nn\n",
        "import torch.optim as optim\n",
        "from torchvision import datasets, transforms\n",
        "import matplotlib.pyplot as plt"
      ],
      "metadata": {
        "id": "gd7qitLZLQOq"
      },
      "execution_count": null,
      "outputs": []
    },
    {
      "cell_type": "markdown",
      "source": [
        "**Load the MNIST Dataset:**\n",
        "\n",
        "*   Utilize torchvision.datasets to load the MNIST data\n",
        "\n"
      ],
      "metadata": {
        "id": "cbdex9FVLdQo"
      }
    },
    {
      "cell_type": "code",
      "source": [
        "transform = transforms.Compose([\n",
        "    transforms.ToTensor(),\n",
        "    transforms.Normalize((0.1307,), (0.3081,))\n",
        "])\n",
        "\n",
        "train_loader = torch.utils.data.DataLoader(\n",
        "    datasets.MNIST('.', train=True, download=True, transform=transform),\n",
        "    batch_size=64, shuffle=True)\n",
        "\n",
        "test_loader = torch.utils.data.DataLoader(\n",
        "    datasets.MNIST('.', train=False, transform=transform),\n",
        "    batch_size=1000, shuffle=False)"
      ],
      "metadata": {
        "id": "RtwdWxTSLkv4"
      },
      "execution_count": null,
      "outputs": []
    },
    {
      "cell_type": "markdown",
      "source": [
        "**Define a Simple Neural Network:**\n",
        "\n",
        "*   Create a simple PyTorch neural network\n",
        "\n",
        "\n"
      ],
      "metadata": {
        "id": "hyyKRX8GLz1V"
      }
    },
    {
      "cell_type": "code",
      "source": [
        "class Net(nn.Module):\n",
        "    def __init__(self):\n",
        "        super(Net, self).__init__()\n",
        "        self.fc1 = nn.Linear(28*28, 128)\n",
        "        self.fc2 = nn.Linear(128, 64)\n",
        "        self.fc3 = nn.Linear(64, 10)\n",
        "\n",
        "    def forward(self, x):\n",
        "        x = x.view(-1, 28*28)  # Flatten the input\n",
        "        x = torch.relu(self.fc1(x))\n",
        "        x = torch.relu(self.fc2(x))\n",
        "        x = self.fc3(x)\n",
        "        return x\n",
        "\n",
        "model = Net()"
      ],
      "metadata": {
        "id": "8YvIaCFZL5OL"
      },
      "execution_count": null,
      "outputs": []
    },
    {
      "cell_type": "markdown",
      "source": [
        "**Define Training and Test Functions:**\n",
        "\n",
        "*   Set up functions to train and test the model:\n",
        "\n"
      ],
      "metadata": {
        "id": "AtwbT-yZL-Rd"
      }
    },
    {
      "cell_type": "code",
      "source": [
        "def train(model, device, train_loader, optimizer, epoch):\n",
        "    model.train()\n",
        "    for batch_idx, (data, target) in enumerate(train_loader):\n",
        "        data, target = data.to(device), target.to(device)\n",
        "        optimizer.zero_grad()\n",
        "        output = model(data)\n",
        "        loss = nn.CrossEntropyLoss()(output, target)\n",
        "        loss.backward()\n",
        "        optimizer.step()\n",
        "\n",
        "def test(model, device, test_loader):\n",
        "    model.eval()\n",
        "    test_loss = 0\n",
        "    correct = 0\n",
        "    with torch.no_grad():\n",
        "        for data, target in test_loader:\n",
        "            data, target = data.to(device), target.to(device)\n",
        "            output = model(data)\n",
        "            test_loss += nn.CrossEntropyLoss(reduction='sum')(output, target).item()\n",
        "            pred = output.argmax(dim=1, keepdim=True)\n",
        "            correct += pred.eq(target.view_as(pred)).sum().item()\n",
        "\n",
        "    test_loss /= len(test_loader.dataset)\n",
        "    accuracy = 100. * correct / len(test_loader.dataset)\n",
        "    print(f'Test set: Average loss: {test_loss:.4f}, Accuracy: {correct}/{len(test_loader.dataset)} ({accuracy:.0f}%)')"
      ],
      "metadata": {
        "id": "VggZvqEBM-om"
      },
      "execution_count": null,
      "outputs": []
    },
    {
      "cell_type": "markdown",
      "source": [
        "**Train the Model:**\n",
        "\n",
        "\n",
        "\n",
        "*   Finally, run the training and testing\n",
        "\n"
      ],
      "metadata": {
        "id": "ZLlblwF8NLqx"
      }
    },
    {
      "cell_type": "code",
      "source": [
        "device = torch.device(\"cuda\" if torch.cuda.is_available() else \"cpu\")\n",
        "model.to(device)\n",
        "optimizer = optim.SGD(model.parameters(), lr=0.01, momentum=0.9)\n",
        "\n",
        "for epoch in range(1, 11):\n",
        "    train(model, device, train_loader, optimizer, epoch)\n",
        "    test(model, device, test_loader)"
      ],
      "metadata": {
        "id": "0gb2TwoFNWbt"
      },
      "execution_count": null,
      "outputs": []
    }
  ]
}