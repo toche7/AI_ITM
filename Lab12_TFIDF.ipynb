{
  "nbformat": 4,
  "nbformat_minor": 0,
  "metadata": {
    "colab": {
      "provenance": [],
      "authorship_tag": "ABX9TyPNt/+R1QUsaoJSyQRghpHl",
      "include_colab_link": true
    },
    "kernelspec": {
      "name": "python3",
      "display_name": "Python 3"
    },
    "language_info": {
      "name": "python"
    }
  },
  "cells": [
    {
      "cell_type": "markdown",
      "metadata": {
        "id": "view-in-github",
        "colab_type": "text"
      },
      "source": [
        "<a href=\"https://colab.research.google.com/github/toche7/AI_ITM/blob/main/Lab12_TFIDF.ipynb\" target=\"_parent\"><img src=\"https://colab.research.google.com/assets/colab-badge.svg\" alt=\"Open In Colab\"/></a>"
      ]
    },
    {
      "cell_type": "code",
      "source": [
        "from sklearn.feature_extraction.text import TfidfVectorizer\n",
        "\n",
        "# Sample set of documents\n",
        "docs = [\n",
        "    \"the sky is blue\",\n",
        "    \"sky is blue and sky is beautiful\",\n",
        "    \"the beautiful sky is so blue\",\n",
        "    \"I love blue cheese\"\n",
        "]"
      ],
      "metadata": {
        "id": "LL3Kp-UOQb0r"
      },
      "execution_count": null,
      "outputs": []
    },
    {
      "cell_type": "code",
      "source": [
        "# Create the vectorizer and compute the TF-IDF matrix\n",
        "tfidfvectorizer = TfidfVectorizer()\n",
        "\n",
        "# Fit the model and transform the documents\n",
        "tfidf_wm = tfidfvectorizer.fit_transform(docs)"
      ],
      "metadata": {
        "id": "37t-n9dxQdbV"
      },
      "execution_count": null,
      "outputs": []
    },
    {
      "cell_type": "code",
      "source": [
        "print(tfidf_wm)"
      ],
      "metadata": {
        "id": "C-Xz4ZlI1MKD"
      },
      "execution_count": null,
      "outputs": []
    },
    {
      "cell_type": "code",
      "source": [
        "# Retrieve the terms found in the corpus\n",
        "tfidf_tokens = tfidfvectorizer.get_feature_names_out()\n",
        "tfidf_tokens\n"
      ],
      "metadata": {
        "id": "S7n7nisTQpvG"
      },
      "execution_count": null,
      "outputs": []
    },
    {
      "cell_type": "code",
      "execution_count": null,
      "metadata": {
        "id": "7yb1uLkjNdNk"
      },
      "outputs": [],
      "source": [
        "# Create a DataFrame for easy viewing\n",
        "import pandas as pd\n",
        "df_tfidfvect = pd.DataFrame(data = tfidf_wm.toarray(),index = ['Doc1','Doc2', 'Doc3', 'Doc4'],columns = tfidf_tokens)\n",
        "\n",
        "# View the TF-IDF DataFrame\n",
        "print(df_tfidfvect)\n"
      ]
    },
    {
      "cell_type": "code",
      "source": [],
      "metadata": {
        "id": "mlEh4nHjOKSZ"
      },
      "execution_count": null,
      "outputs": []
    },
    {
      "cell_type": "markdown",
      "source": [
        "This code snippet performs the following steps:\n",
        "\n",
        "1. It initializes a list of strings where each string represents a document.\n",
        "2. It creates a TfidfVectorizer object to convert the text documents to a matrix of TF-IDF features.\n",
        "3. It fits to the data and then transforms our documents into the TF-IDF matrix.\n",
        "4. It retrieves the tokens (words) that have been found in all the documents.\n",
        "5. It creates a pandas DataFrame to display the TF-IDF scores in a tabular format, with documents as rows and words as columns.\n",
        "\n",
        "The resulting DataFrame df_tfidfvect contains the TF-IDF scores for each word in each document. High scores indicate words that are more relevant to the document, while lower scores indicate words that are less relevant. Words that appear across many documents will have lower scores because of the IDF component, which penalizes common words."
      ],
      "metadata": {
        "id": "NQJYAWCDRiMZ"
      }
    },
    {
      "cell_type": "code",
      "source": [],
      "metadata": {
        "id": "HLpZSIpZVvng"
      },
      "execution_count": null,
      "outputs": []
    }
  ]
}