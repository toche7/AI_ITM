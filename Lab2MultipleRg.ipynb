{
  "nbformat": 4,
  "nbformat_minor": 0,
  "metadata": {
    "colab": {
      "provenance": [],
      "authorship_tag": "ABX9TyNIfH+f4Xfmp3um3IpRSixU",
      "include_colab_link": true
    },
    "kernelspec": {
      "name": "python3",
      "display_name": "Python 3"
    },
    "language_info": {
      "name": "python"
    }
  },
  "cells": [
    {
      "cell_type": "markdown",
      "metadata": {
        "id": "view-in-github",
        "colab_type": "text"
      },
      "source": [
        "<a href=\"https://colab.research.google.com/github/toche7/AI_ITM/blob/main/Lab2MultipleRg.ipynb\" target=\"_parent\"><img src=\"https://colab.research.google.com/assets/colab-badge.svg\" alt=\"Open In Colab\"/></a>"
      ]
    },
    {
      "cell_type": "markdown",
      "source": [
        "# Lab 2: Multiple Linear Regression"
      ],
      "metadata": {
        "id": "jQFnUEowJkOF"
      }
    },
    {
      "cell_type": "code",
      "execution_count": null,
      "metadata": {
        "id": "VJnKaJ4FP3Il"
      },
      "outputs": [],
      "source": [
        "import numpy as np\n",
        "import pandas as pd"
      ]
    },
    {
      "cell_type": "code",
      "source": [
        "df = pd.read_csv('https://github.com/toche7/DataSets/raw/main/RealEstate.csv',sep = ',')"
      ],
      "metadata": {
        "id": "XQpfxCvQQGYT"
      },
      "execution_count": null,
      "outputs": []
    },
    {
      "cell_type": "code",
      "source": [
        "df.head()"
      ],
      "metadata": {
        "id": "oVNh-_a4QvGJ"
      },
      "execution_count": null,
      "outputs": []
    },
    {
      "cell_type": "code",
      "source": [
        "df.shape"
      ],
      "metadata": {
        "id": "OPi34totQxZb"
      },
      "execution_count": null,
      "outputs": []
    },
    {
      "cell_type": "code",
      "source": [
        "df.columns = ['No',\t'X1',\t'X2', 'X3',  'X4', 'X5', 'X6', 'Y']\n",
        "df.head()"
      ],
      "metadata": {
        "id": "Ko44f3D4Q-B5"
      },
      "execution_count": null,
      "outputs": []
    },
    {
      "cell_type": "code",
      "source": [
        "import seaborn as sns\n",
        "sns.pairplot(df)"
      ],
      "metadata": {
        "id": "CCMWLBk4Rkbb"
      },
      "execution_count": null,
      "outputs": []
    },
    {
      "cell_type": "code",
      "source": [
        "X = df[['X1', 'X2', 'X3','X4', 'X5', 'X6']]\n",
        "X.head()"
      ],
      "metadata": {
        "id": "k1VY1i-YSLk9"
      },
      "execution_count": null,
      "outputs": []
    },
    {
      "cell_type": "code",
      "source": [
        "y = df[['Y']]"
      ],
      "metadata": {
        "id": "NXB1bx3jTb3k"
      },
      "execution_count": null,
      "outputs": []
    },
    {
      "cell_type": "code",
      "source": [
        "y.head()"
      ],
      "metadata": {
        "id": "-6ZMPh8UT5m_"
      },
      "execution_count": null,
      "outputs": []
    },
    {
      "cell_type": "code",
      "source": [
        "from sklearn.linear_model import LinearRegression\n",
        "\n",
        "regModel = LinearRegression()\n",
        "regModel.fit(X,y)"
      ],
      "metadata": {
        "id": "Pu6PeQ79T62i"
      },
      "execution_count": null,
      "outputs": []
    },
    {
      "cell_type": "code",
      "source": [
        "regModel.score(X,y)"
      ],
      "metadata": {
        "id": "Nh4UxEigUIe9"
      },
      "execution_count": null,
      "outputs": []
    },
    {
      "cell_type": "code",
      "source": [
        "regModel.coef_"
      ],
      "metadata": {
        "id": "AMBkewGJUMXB"
      },
      "execution_count": null,
      "outputs": []
    },
    {
      "cell_type": "code",
      "source": [
        "regModel.intercept_"
      ],
      "metadata": {
        "id": "OCeTU8NyVObg"
      },
      "execution_count": null,
      "outputs": []
    },
    {
      "cell_type": "code",
      "source": [
        "from joblib import dump"
      ],
      "metadata": {
        "id": "ZMCNx0w3WuiT"
      },
      "execution_count": null,
      "outputs": []
    },
    {
      "cell_type": "code",
      "source": [
        "dump(regModel, 'model.joblib')"
      ],
      "metadata": {
        "id": "lLmC47rQXAPj"
      },
      "execution_count": null,
      "outputs": []
    },
    {
      "cell_type": "code",
      "source": [
        "from joblib import load\n",
        "modelLoad = load('/content/model.joblib')"
      ],
      "metadata": {
        "id": "HJliWaZJXj4k"
      },
      "execution_count": null,
      "outputs": []
    },
    {
      "cell_type": "code",
      "source": [
        "modelLoad.predict(X)"
      ],
      "metadata": {
        "id": "t8wlO0bMX3Kt"
      },
      "execution_count": null,
      "outputs": []
    },
    {
      "cell_type": "code",
      "source": [],
      "metadata": {
        "id": "l-_4Sy6kX_Dg"
      },
      "execution_count": null,
      "outputs": []
    }
  ]
}